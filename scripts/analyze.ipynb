{
 "cells": [
  {
   "cell_type": "code",
   "execution_count": 4,
   "metadata": {},
   "outputs": [
    {
     "name": "stdout",
     "output_type": "stream",
     "text": [
      "90496\n"
     ]
    }
   ],
   "source": [
    "need_cycles = []\n",
    "with open(\"test/bert-large_inception_unet_wide_resnet50_2/traces/trace_2048.txt\", \"r\") as f:\n",
    "    for line in f:\n",
    "        contents = list(map(int, line.split(\" \")))\n",
    "        if len(contents) > 2:\n",
    "            need_cycles.append(contents[0] * contents[1])\n",
    "print(max(need_cycles))"
   ]
  },
  {
   "cell_type": "code",
   "execution_count": 4,
   "metadata": {},
   "outputs": [],
   "source": [
    "import re\n",
    "import os\n",
    "\n",
    "os.system(\"cd ..\")\n",
    "with open(\"dump.log\", \"r\") as rf: \n",
    "    wf = None\n",
    "    for line in rf:\n",
    "        if \"cycle\" in line:\n",
    "            cycle = re.findall(r\"\\d+\", line)[0]\n",
    "            if wf: \n",
    "                wf.close()\n",
    "            wf = open(\"split/{}.txt\".format(cycle), \"w\")\n",
    "        else:\n",
    "            wf.write(line)\n",
    "if wf:\n",
    "    wf.close()"
   ]
  },
  {
   "cell_type": "code",
   "execution_count": null,
   "metadata": {},
   "outputs": [],
   "source": []
  }
 ],
 "metadata": {
  "interpreter": {
   "hash": "8c0becb933fa383007aaf2108a94fe203047c99382006b84ff96d5df74f4e91e"
  },
  "kernelspec": {
   "display_name": "Python 3.6.9 64-bit ('3.6.9': pyenv)",
   "language": "python",
   "name": "python3"
  },
  "language_info": {
   "codemirror_mode": {
    "name": "ipython",
    "version": 3
   },
   "file_extension": ".py",
   "mimetype": "text/x-python",
   "name": "python",
   "nbconvert_exporter": "python",
   "pygments_lexer": "ipython3",
   "version": "3.6.9"
  },
  "orig_nbformat": 4
 },
 "nbformat": 4,
 "nbformat_minor": 2
}
